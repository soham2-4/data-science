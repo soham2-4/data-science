{
 "cells": [
  {
   "cell_type": "code",
   "execution_count": 1,
   "metadata": {
    "executionInfo": {
     "elapsed": 5718,
     "status": "ok",
     "timestamp": 1618000657777,
     "user": {
      "displayName": "Soham Choudhuri",
      "photoUrl": "https://lh3.googleusercontent.com/a-/AOh14GjxG_xmoQX10nzSlm_XSz89C8fabOW3w7cEDJXt-g=s64",
      "userId": "13482936011621009456"
     },
     "user_tz": -330
    },
    "id": "O_atpNjSVWJl"
   },
   "outputs": [],
   "source": [
    "import os\n",
    "import torch \n",
    "import torchvision\n",
    "import torch.nn as nn\n",
    "import torchvision.transforms as transforms\n",
    "import torch.optim as optim\n",
    "import matplotlib.pyplot as plt\n",
    "import torch.nn.functional as F\n",
    "from torchvision import datasets\n",
    "from torch.utils.data import DataLoader\n",
    "from torchvision.utils import save_image\n",
    "from PIL import Image"
   ]
  },
  {
   "cell_type": "code",
   "execution_count": 2,
   "metadata": {
    "executionInfo": {
     "elapsed": 2054,
     "status": "ok",
     "timestamp": 1618000668910,
     "user": {
      "displayName": "Soham Choudhuri",
      "photoUrl": "https://lh3.googleusercontent.com/a-/AOh14GjxG_xmoQX10nzSlm_XSz89C8fabOW3w7cEDJXt-g=s64",
      "userId": "13482936011621009456"
     },
     "user_tz": -330
    },
    "id": "04d4O_OgWo-0"
   },
   "outputs": [],
   "source": [
    "Epochs = 100\n",
    "Lr_Rate = 1e-3\n",
    "Batch_Size = 128"
   ]
  },
  {
   "cell_type": "code",
   "execution_count": 4,
   "metadata": {
    "executionInfo": {
     "elapsed": 2239,
     "status": "ok",
     "timestamp": 1618000687848,
     "user": {
      "displayName": "Soham Choudhuri",
      "photoUrl": "https://lh3.googleusercontent.com/a-/AOh14GjxG_xmoQX10nzSlm_XSz89C8fabOW3w7cEDJXt-g=s64",
      "userId": "13482936011621009456"
     },
     "user_tz": -330
    },
    "id": "sAK4p7xQWpHP"
   },
   "outputs": [],
   "source": [
    "transform = transforms.Compose([\n",
    "    transforms.ToTensor(),\n",
    "    transforms.Normalize((0.5,), (0.5,))\n",
    "])"
   ]
  },
  {
   "cell_type": "code",
   "execution_count": 10,
   "metadata": {
    "executionInfo": {
     "elapsed": 1014,
     "status": "ok",
     "timestamp": 1618000976255,
     "user": {
      "displayName": "Soham Choudhuri",
      "photoUrl": "https://lh3.googleusercontent.com/a-/AOh14GjxG_xmoQX10nzSlm_XSz89C8fabOW3w7cEDJXt-g=s64",
      "userId": "13482936011621009456"
     },
     "user_tz": -330
    },
    "id": "QpNn7B7EWpPY"
   },
   "outputs": [],
   "source": [
    "train_set = datasets.MNIST(root='./data', train=True, download=True, transform=transform)\n",
    "test_set = datasets.MNIST(root='./data', train=False, download=True, transform=transform)\n",
    "\n",
    "train_loader = DataLoader(train_set, Batch_Size, shuffle=True)\n",
    "test_loader = DataLoader(test_set, Batch_Size, shuffle=True)"
   ]
  },
  {
   "cell_type": "code",
   "execution_count": 11,
   "metadata": {
    "colab": {
     "base_uri": "https://localhost:8080/"
    },
    "executionInfo": {
     "elapsed": 1047,
     "status": "ok",
     "timestamp": 1618001014846,
     "user": {
      "displayName": "Soham Choudhuri",
      "photoUrl": "https://lh3.googleusercontent.com/a-/AOh14GjxG_xmoQX10nzSlm_XSz89C8fabOW3w7cEDJXt-g=s64",
      "userId": "13482936011621009456"
     },
     "user_tz": -330
    },
    "id": "m2A_KsmDW3NG",
    "outputId": "313b7b7d-a032-44e9-9790-f81229376052"
   },
   "outputs": [
    {
     "name": "stdout",
     "output_type": "stream",
     "text": [
      "Dataset MNIST\n",
      "    Number of datapoints: 60000\n",
      "    Root location: ./data\n",
      "    Split: Train\n",
      "    StandardTransform\n",
      "Transform: Compose(\n",
      "               ToTensor()\n",
      "               Normalize(mean=(0.5,), std=(0.5,))\n",
      "           )\n"
     ]
    }
   ],
   "source": [
    "print(train_set)"
   ]
  },
  {
   "cell_type": "code",
   "execution_count": 12,
   "metadata": {
    "colab": {
     "base_uri": "https://localhost:8080/"
    },
    "executionInfo": {
     "elapsed": 1107,
     "status": "ok",
     "timestamp": 1618001029896,
     "user": {
      "displayName": "Soham Choudhuri",
      "photoUrl": "https://lh3.googleusercontent.com/a-/AOh14GjxG_xmoQX10nzSlm_XSz89C8fabOW3w7cEDJXt-g=s64",
      "userId": "13482936011621009456"
     },
     "user_tz": -330
    },
    "id": "2qTuPw7AW3dp",
    "outputId": "9d2bf0b3-59d9-4252-ccbf-36a355bc0fec"
   },
   "outputs": [
    {
     "name": "stdout",
     "output_type": "stream",
     "text": [
      "['0 - zero', '1 - one', '2 - two', '3 - three', '4 - four', '5 - five', '6 - six', '7 - seven', '8 - eight', '9 - nine']\n"
     ]
    }
   ],
   "source": [
    "print(train_set.classes)\n"
   ]
  },
  {
   "cell_type": "code",
   "execution_count": 13,
   "metadata": {
    "executionInfo": {
     "elapsed": 1123,
     "status": "ok",
     "timestamp": 1618001047914,
     "user": {
      "displayName": "Soham Choudhuri",
      "photoUrl": "https://lh3.googleusercontent.com/a-/AOh14GjxG_xmoQX10nzSlm_XSz89C8fabOW3w7cEDJXt-g=s64",
      "userId": "13482936011621009456"
     },
     "user_tz": -330
    },
    "id": "kNjYH8EVWpWr"
   },
   "outputs": [],
   "source": [
    "class Autoencoder(nn.Module):\n",
    "    def __init__(self):\n",
    "        super(Autoencoder, self).__init__()\n",
    "\n",
    "        #Encoder\n",
    "        self.enc1 = nn.Linear(in_features=784, out_features=256) # Input image (28*28 = 784)\n",
    "        self.enc2 = nn.Linear(in_features=256, out_features=128)\n",
    "        self.enc3 = nn.Linear(in_features=128, out_features=64)\n",
    "        self.enc4 = nn.Linear(in_features=64, out_features=32)\n",
    "        self.enc5 = nn.Linear(in_features=32, out_features=16)\n",
    "\n",
    "        #Decoder \n",
    "        self.dec1 = nn.Linear(in_features=16, out_features=32)\n",
    "        self.dec2 = nn.Linear(in_features=32, out_features=64)\n",
    "        self.dec3 = nn.Linear(in_features=64, out_features=128)\n",
    "        self.dec4 = nn.Linear(in_features=128, out_features=256)\n",
    "        self.dec5 = nn.Linear(in_features=256, out_features=784) # Output image (28*28 = 784)\n",
    "\n",
    "    def forward(self, x):\n",
    "        x = F.relu(self.enc1(x))\n",
    "        x = F.relu(self.enc2(x))\n",
    "        x = F.relu(self.enc3(x))\n",
    "        x = F.relu(self.enc4(x))\n",
    "        x = F.relu(self.enc5(x))\n",
    "\n",
    "        x = F.relu(self.dec1(x))\n",
    "        x = F.relu(self.dec2(x))\n",
    "        x = F.relu(self.dec3(x))\n",
    "        x = F.relu(self.dec4(x))\n",
    "        x = F.relu(self.dec5(x))\n",
    "\n",
    "        return x"
   ]
  },
  {
   "cell_type": "code",
   "execution_count": 14,
   "metadata": {
    "colab": {
     "base_uri": "https://localhost:8080/"
    },
    "executionInfo": {
     "elapsed": 1110,
     "status": "ok",
     "timestamp": 1618001061762,
     "user": {
      "displayName": "Soham Choudhuri",
      "photoUrl": "https://lh3.googleusercontent.com/a-/AOh14GjxG_xmoQX10nzSlm_XSz89C8fabOW3w7cEDJXt-g=s64",
      "userId": "13482936011621009456"
     },
     "user_tz": -330
    },
    "id": "Hu4HjLPXWpeM",
    "outputId": "944ca95a-ede0-4bc3-dc29-951afe3ac839"
   },
   "outputs": [
    {
     "name": "stdout",
     "output_type": "stream",
     "text": [
      "Autoencoder(\n",
      "  (enc1): Linear(in_features=784, out_features=256, bias=True)\n",
      "  (enc2): Linear(in_features=256, out_features=128, bias=True)\n",
      "  (enc3): Linear(in_features=128, out_features=64, bias=True)\n",
      "  (enc4): Linear(in_features=64, out_features=32, bias=True)\n",
      "  (enc5): Linear(in_features=32, out_features=16, bias=True)\n",
      "  (dec1): Linear(in_features=16, out_features=32, bias=True)\n",
      "  (dec2): Linear(in_features=32, out_features=64, bias=True)\n",
      "  (dec3): Linear(in_features=64, out_features=128, bias=True)\n",
      "  (dec4): Linear(in_features=128, out_features=256, bias=True)\n",
      "  (dec5): Linear(in_features=256, out_features=784, bias=True)\n",
      ")\n"
     ]
    }
   ],
   "source": [
    "model = Autoencoder()\n",
    "print(model)"
   ]
  },
  {
   "cell_type": "code",
   "execution_count": 17,
   "metadata": {
    "executionInfo": {
     "elapsed": 1105,
     "status": "ok",
     "timestamp": 1618001223712,
     "user": {
      "displayName": "Soham Choudhuri",
      "photoUrl": "https://lh3.googleusercontent.com/a-/AOh14GjxG_xmoQX10nzSlm_XSz89C8fabOW3w7cEDJXt-g=s64",
      "userId": "13482936011621009456"
     },
     "user_tz": -330
    },
    "id": "92WZB_hkWple"
   },
   "outputs": [],
   "source": [
    "criterion = nn.MSELoss()\n",
    "optimizer = torch.optim.Adam(model.parameters(),\n",
    "                                 lr=Lr_Rate)\n",
    "optimizer = optim.SGD(model.parameters(), lr=Lr_Rate, momentum=0.9)\n",
    "optimizer = optim.SGD(model.parameters(), lr=Lr_Rate) \n",
    "optimizer = optim.RMSProp(model.parameters(), lr=Lr_Rate, momentum=0.9)\n",
    "                                \n"
   ]
  },
  {
   "cell_type": "code",
   "execution_count": 18,
   "metadata": {
    "executionInfo": {
     "elapsed": 1070,
     "status": "ok",
     "timestamp": 1618001244091,
     "user": {
      "displayName": "Soham Choudhuri",
      "photoUrl": "https://lh3.googleusercontent.com/a-/AOh14GjxG_xmoQX10nzSlm_XSz89C8fabOW3w7cEDJXt-g=s64",
      "userId": "13482936011621009456"
     },
     "user_tz": -330
    },
    "id": "3SjAGNwoWpuK"
   },
   "outputs": [],
   "source": [
    "def get_device():\n",
    "    if torch.cuda.is_available():\n",
    "        device = 'cuda:0'\n",
    "    else:\n",
    "        device = 'cpu'\n",
    "    return device"
   ]
  },
  {
   "cell_type": "code",
   "execution_count": 19,
   "metadata": {
    "executionInfo": {
     "elapsed": 1046,
     "status": "ok",
     "timestamp": 1618001266607,
     "user": {
      "displayName": "Soham Choudhuri",
      "photoUrl": "https://lh3.googleusercontent.com/a-/AOh14GjxG_xmoQX10nzSlm_XSz89C8fabOW3w7cEDJXt-g=s64",
      "userId": "13482936011621009456"
     },
     "user_tz": -330
    },
    "id": "FzFBFet8Y7xh"
   },
   "outputs": [],
   "source": [
    "def make_dir():\n",
    "    image_dir = 'MNIST_Out_Images'\n",
    "    if not os.path.exists(image_dir):\n",
    "        os.makedirs(image_dir)"
   ]
  },
  {
   "cell_type": "code",
   "execution_count": 20,
   "metadata": {
    "executionInfo": {
     "elapsed": 1428,
     "status": "ok",
     "timestamp": 1618001284270,
     "user": {
      "displayName": "Soham Choudhuri",
      "photoUrl": "https://lh3.googleusercontent.com/a-/AOh14GjxG_xmoQX10nzSlm_XSz89C8fabOW3w7cEDJXt-g=s64",
      "userId": "13482936011621009456"
     },
     "user_tz": -330
    },
    "id": "EA3z-T9NY8Aw"
   },
   "outputs": [],
   "source": [
    "def save_decod_img(img, epoch):\n",
    "    img = img.view(img.size(0), 1, 28, 28)\n",
    "    save_image(img, './MNIST_Out_Images/Autoencoder_image{}.png'.format(epoch))"
   ]
  },
  {
   "cell_type": "code",
   "execution_count": 21,
   "metadata": {
    "executionInfo": {
     "elapsed": 1045,
     "status": "ok",
     "timestamp": 1618001303854,
     "user": {
      "displayName": "Soham Choudhuri",
      "photoUrl": "https://lh3.googleusercontent.com/a-/AOh14GjxG_xmoQX10nzSlm_XSz89C8fabOW3w7cEDJXt-g=s64",
      "userId": "13482936011621009456"
     },
     "user_tz": -330
    },
    "id": "W40UZxB9Y8ID"
   },
   "outputs": [],
   "source": [
    "def training(model, train_loader, Epochs):\n",
    "    train_loss = []\n",
    "    for epoch in range(Epochs):\n",
    "        running_loss = 0.0\n",
    "        for data in train_loader:\n",
    "            img, _ = data\n",
    "            img = img.to(device)\n",
    "            img = img.view(img.size(0), -1)\n",
    "            optimizer.zero_grad()\n",
    "            outputs = model(img)\n",
    "            loss = criterion(outputs, img)\n",
    "            loss.backward()\n",
    "            optimizer.step()\n",
    "            running_loss += loss.item()\n",
    "\n",
    "        loss = running_loss / len(train_loader)\n",
    "        train_loss.append(loss)\n",
    "        print('Epoch {} of {}, Train Loss: {:.3f}'.format(\n",
    "            epoch+1, Epochs, loss))\n",
    "\n",
    "        if epoch % 5 == 0:\n",
    "            save_decod_img(outputs.cpu().data, epoch)\n",
    "\n",
    "    return train_loss\n",
    "\n"
   ]
  },
  {
   "cell_type": "code",
   "execution_count": 22,
   "metadata": {
    "executionInfo": {
     "elapsed": 1063,
     "status": "ok",
     "timestamp": 1618001327077,
     "user": {
      "displayName": "Soham Choudhuri",
      "photoUrl": "https://lh3.googleusercontent.com/a-/AOh14GjxG_xmoQX10nzSlm_XSz89C8fabOW3w7cEDJXt-g=s64",
      "userId": "13482936011621009456"
     },
     "user_tz": -330
    },
    "id": "pVED4TsFY8ZC"
   },
   "outputs": [],
   "source": [
    "def test_image_reconstruct(model, test_loader):\n",
    "     for batch in test_loader:\n",
    "        img, _ = batch\n",
    "        img = img.to(device)\n",
    "        img = img.view(img.size(0), -1)\n",
    "        outputs = model(img)\n",
    "        outputs = outputs.view(outputs.size(0), 1, 28, 28).cpu().data\n",
    "        save_image(outputs, 'MNIST_reconstruction.png')\n",
    "        break"
   ]
  },
  {
   "cell_type": "code",
   "execution_count": 23,
   "metadata": {
    "executionInfo": {
     "elapsed": 1196,
     "status": "ok",
     "timestamp": 1618001345447,
     "user": {
      "displayName": "Soham Choudhuri",
      "photoUrl": "https://lh3.googleusercontent.com/a-/AOh14GjxG_xmoQX10nzSlm_XSz89C8fabOW3w7cEDJXt-g=s64",
      "userId": "13482936011621009456"
     },
     "user_tz": -330
    },
    "id": "EXcdgsDRZPfn"
   },
   "outputs": [],
   "source": [
    "device = get_device()\n",
    "model.to(device)\n",
    "make_dir()"
   ]
  },
  {
   "cell_type": "code",
   "execution_count": 24,
   "metadata": {
    "colab": {
     "base_uri": "https://localhost:8080/"
    },
    "executionInfo": {
     "elapsed": 1698742,
     "status": "ok",
     "timestamp": 1618003053804,
     "user": {
      "displayName": "Soham Choudhuri",
      "photoUrl": "https://lh3.googleusercontent.com/a-/AOh14GjxG_xmoQX10nzSlm_XSz89C8fabOW3w7cEDJXt-g=s64",
      "userId": "13482936011621009456"
     },
     "user_tz": -330
    },
    "id": "IhLJxGMIZPoV",
    "outputId": "b8d521bb-7df9-4e10-c063-ebd4f087b526"
   },
   "outputs": [
    {
     "name": "stdout",
     "output_type": "stream",
     "text": [
      "Epoch 1 of 100, Train Loss: 0.921\n",
      "Epoch 2 of 100, Train Loss: 0.913\n",
      "Epoch 3 of 100, Train Loss: 0.908\n",
      "Epoch 4 of 100, Train Loss: 0.905\n",
      "Epoch 5 of 100, Train Loss: 0.902\n",
      "Epoch 6 of 100, Train Loss: 0.899\n",
      "Epoch 7 of 100, Train Loss: 0.897\n",
      "Epoch 8 of 100, Train Loss: 0.896\n",
      "Epoch 9 of 100, Train Loss: 0.895\n",
      "Epoch 10 of 100, Train Loss: 0.893\n",
      "Epoch 11 of 100, Train Loss: 0.892\n",
      "Epoch 12 of 100, Train Loss: 0.891\n",
      "Epoch 13 of 100, Train Loss: 0.891\n",
      "Epoch 14 of 100, Train Loss: 0.890\n",
      "Epoch 15 of 100, Train Loss: 0.889\n",
      "Epoch 16 of 100, Train Loss: 0.889\n",
      "Epoch 17 of 100, Train Loss: 0.889\n",
      "Epoch 18 of 100, Train Loss: 0.888\n",
      "Epoch 19 of 100, Train Loss: 0.888\n",
      "Epoch 20 of 100, Train Loss: 0.888\n",
      "Epoch 21 of 100, Train Loss: 0.887\n",
      "Epoch 22 of 100, Train Loss: 0.887\n",
      "Epoch 23 of 100, Train Loss: 0.886\n",
      "Epoch 24 of 100, Train Loss: 0.886\n",
      "Epoch 25 of 100, Train Loss: 0.885\n",
      "Epoch 26 of 100, Train Loss: 0.885\n",
      "Epoch 27 of 100, Train Loss: 0.884\n",
      "Epoch 28 of 100, Train Loss: 0.884\n",
      "Epoch 29 of 100, Train Loss: 0.884\n",
      "Epoch 30 of 100, Train Loss: 0.883\n",
      "Epoch 31 of 100, Train Loss: 0.883\n",
      "Epoch 32 of 100, Train Loss: 0.883\n",
      "Epoch 33 of 100, Train Loss: 0.883\n",
      "Epoch 34 of 100, Train Loss: 0.882\n",
      "Epoch 35 of 100, Train Loss: 0.882\n",
      "Epoch 36 of 100, Train Loss: 0.882\n",
      "Epoch 37 of 100, Train Loss: 0.881\n",
      "Epoch 38 of 100, Train Loss: 0.881\n",
      "Epoch 39 of 100, Train Loss: 0.881\n",
      "Epoch 40 of 100, Train Loss: 0.881\n",
      "Epoch 41 of 100, Train Loss: 0.881\n",
      "Epoch 42 of 100, Train Loss: 0.880\n",
      "Epoch 43 of 100, Train Loss: 0.880\n",
      "Epoch 44 of 100, Train Loss: 0.880\n",
      "Epoch 45 of 100, Train Loss: 0.880\n",
      "Epoch 46 of 100, Train Loss: 0.880\n",
      "Epoch 47 of 100, Train Loss: 0.880\n",
      "Epoch 48 of 100, Train Loss: 0.880\n",
      "Epoch 49 of 100, Train Loss: 0.880\n",
      "Epoch 50 of 100, Train Loss: 0.880\n",
      "Epoch 51 of 100, Train Loss: 0.880\n",
      "Epoch 52 of 100, Train Loss: 0.879\n",
      "Epoch 53 of 100, Train Loss: 0.879\n",
      "Epoch 54 of 100, Train Loss: 0.879\n",
      "Epoch 55 of 100, Train Loss: 0.879\n",
      "Epoch 56 of 100, Train Loss: 0.879\n",
      "Epoch 57 of 100, Train Loss: 0.879\n",
      "Epoch 58 of 100, Train Loss: 0.878\n",
      "Epoch 59 of 100, Train Loss: 0.878\n",
      "Epoch 60 of 100, Train Loss: 0.878\n",
      "Epoch 61 of 100, Train Loss: 0.878\n",
      "Epoch 62 of 100, Train Loss: 0.878\n",
      "Epoch 63 of 100, Train Loss: 0.878\n",
      "Epoch 64 of 100, Train Loss: 0.878\n",
      "Epoch 65 of 100, Train Loss: 0.878\n",
      "Epoch 66 of 100, Train Loss: 0.878\n",
      "Epoch 67 of 100, Train Loss: 0.878\n",
      "Epoch 68 of 100, Train Loss: 0.878\n",
      "Epoch 69 of 100, Train Loss: 0.878\n",
      "Epoch 70 of 100, Train Loss: 0.878\n",
      "Epoch 71 of 100, Train Loss: 0.878\n",
      "Epoch 72 of 100, Train Loss: 0.878\n",
      "Epoch 73 of 100, Train Loss: 0.878\n",
      "Epoch 74 of 100, Train Loss: 0.878\n",
      "Epoch 75 of 100, Train Loss: 0.878\n",
      "Epoch 76 of 100, Train Loss: 0.878\n",
      "Epoch 77 of 100, Train Loss: 0.877\n",
      "Epoch 78 of 100, Train Loss: 0.877\n",
      "Epoch 79 of 100, Train Loss: 0.877\n",
      "Epoch 80 of 100, Train Loss: 0.877\n",
      "Epoch 81 of 100, Train Loss: 0.877\n",
      "Epoch 82 of 100, Train Loss: 0.877\n",
      "Epoch 83 of 100, Train Loss: 0.877\n",
      "Epoch 84 of 100, Train Loss: 0.877\n",
      "Epoch 85 of 100, Train Loss: 0.877\n",
      "Epoch 86 of 100, Train Loss: 0.877\n",
      "Epoch 87 of 100, Train Loss: 0.877\n",
      "Epoch 88 of 100, Train Loss: 0.877\n",
      "Epoch 89 of 100, Train Loss: 0.877\n",
      "Epoch 90 of 100, Train Loss: 0.877\n",
      "Epoch 91 of 100, Train Loss: 0.877\n",
      "Epoch 92 of 100, Train Loss: 0.877\n",
      "Epoch 93 of 100, Train Loss: 0.877\n",
      "Epoch 94 of 100, Train Loss: 0.877\n",
      "Epoch 95 of 100, Train Loss: 0.877\n",
      "Epoch 96 of 100, Train Loss: 0.877\n",
      "Epoch 97 of 100, Train Loss: 0.877\n",
      "Epoch 98 of 100, Train Loss: 0.877\n",
      "Epoch 99 of 100, Train Loss: 0.877\n",
      "Epoch 100 of 100, Train Loss: 0.877\n"
     ]
    }
   ],
   "source": [
    "train_loss = training(model, train_loader, Epochs)"
   ]
  },
  {
   "cell_type": "code",
   "execution_count": 25,
   "metadata": {
    "colab": {
     "base_uri": "https://localhost:8080/",
     "height": 295
    },
    "executionInfo": {
     "elapsed": 1182,
     "status": "ok",
     "timestamp": 1618003137236,
     "user": {
      "displayName": "Soham Choudhuri",
      "photoUrl": "https://lh3.googleusercontent.com/a-/AOh14GjxG_xmoQX10nzSlm_XSz89C8fabOW3w7cEDJXt-g=s64",
      "userId": "13482936011621009456"
     },
     "user_tz": -330
    },
    "id": "CftWbbl0ZPwJ",
    "outputId": "bdc999f4-605b-439e-ee72-b960b10262fa"
   },
   "outputs": [
    {
     "data": {
      "image/png": "[encoded data removed]",
      "text/plain": [
       "<Figure size 432x288 with 1 Axes>"
      ]
     },
     "metadata": {
      "needs_background": "light",
      "tags": []
     },
     "output_type": "display_data"
    }
   ],
   "source": [
    "plt.figure()\n",
    "plt.plot(train_loss)\n",
    "plt.title('Train Loss')\n",
    "plt.xlabel('Epochs')\n",
    "plt.ylabel('Loss')\n",
    "plt.savefig('deep_ae_mnist_loss.png')"
   ]
  },
  {
   "cell_type": "code",
   "execution_count": 26,
   "metadata": {
    "colab": {
     "base_uri": "https://localhost:8080/",
     "height": 379
    },
    "executionInfo": {
     "elapsed": 1169,
     "status": "ok",
     "timestamp": 1618003144117,
     "user": {
      "displayName": "Soham Choudhuri",
      "photoUrl": "https://lh3.googleusercontent.com/a-/AOh14GjxG_xmoQX10nzSlm_XSz89C8fabOW3w7cEDJXt-g=s64",
      "userId": "13482936011621009456"
     },
     "user_tz": -330
    },
    "id": "Gg6VSxB2ZP5R",
    "outputId": "5048780e-2063-48e7-d517-4cf9726d4aaf"
   },
   "outputs": [
    {
     "data": {
      "image/png": "[encoded data removed]",
      "text/plain": [
       "<PIL.PngImagePlugin.PngImageFile image mode=RGB size=242x362 at 0x7F2476F76D10>"
      ]
     },
     "execution_count": 26,
     "metadata": {
      "tags": []
     },
     "output_type": "execute_result"
    }
   ],
   "source": [
    "Image.open('/content/MNIST_Out_Images/Autoencoder_image0.png')"
   ]
  },
  {
   "cell_type": "code",
   "execution_count": 27,
   "metadata": {
    "colab": {
     "base_uri": "https://localhost:8080/",
     "height": 379
    },
    "executionInfo": {
     "elapsed": 1340,
     "status": "ok",
     "timestamp": 1618003148635,
     "user": {
      "displayName": "Soham Choudhuri",
      "photoUrl": "https://lh3.googleusercontent.com/a-/AOh14GjxG_xmoQX10nzSlm_XSz89C8fabOW3w7cEDJXt-g=s64",
      "userId": "13482936011621009456"
     },
     "user_tz": -330
    },
    "id": "p5umzI_BZy2n",
    "outputId": "888f9bb9-64e1-484c-8fdc-6d8e03f75f25"
   },
   "outputs": [
    {
     "data": {
      "image/png": "[encoded data removed]",
      "text/plain": [
       "<PIL.PngImagePlugin.PngImageFile image mode=RGB size=242x362 at 0x7F2477125790>"
      ]
     },
     "execution_count": 27,
     "metadata": {
      "tags": []
     },
     "output_type": "execute_result"
    }
   ],
   "source": [
    "Image.open('/content/MNIST_Out_Images/Autoencoder_image50.png')"
   ]
  },
  {
   "cell_type": "code",
   "execution_count": 28,
   "metadata": {
    "colab": {
     "base_uri": "https://localhost:8080/",
     "height": 379
    },
    "executionInfo": {
     "elapsed": 1356,
     "status": "ok",
     "timestamp": 1618003153504,
     "user": {
      "displayName": "Soham Choudhuri",
      "photoUrl": "https://lh3.googleusercontent.com/a-/AOh14GjxG_xmoQX10nzSlm_XSz89C8fabOW3w7cEDJXt-g=s64",
      "userId": "13482936011621009456"
     },
     "user_tz": -330
    },
    "id": "NmVDCx46ZzBX",
    "outputId": "4ace45cc-9908-42e9-9270-2c91646ba528"
   },
   "outputs": [
    {
     "data": {
      "image/png": "[encoded data removed]",
      "text/plain": [
       "<PIL.PngImagePlugin.PngImageFile image mode=RGB size=242x362 at 0x7F24771496D0>"
      ]
     },
     "execution_count": 28,
     "metadata": {
      "tags": []
     },
     "output_type": "execute_result"
    }
   ],
   "source": [
    "Image.open('/content/MNIST_Out_Images/Autoencoder_image95.png')"
   ]
  },
  {
   "cell_type": "code",
   "execution_count": 30,
   "metadata": {
    "colab": {
     "base_uri": "https://localhost:8080/",
     "height": 499
    },
    "executionInfo": {
     "elapsed": 1395,
     "status": "ok",
     "timestamp": 1618003223116,
     "user": {
      "displayName": "Soham Choudhuri",
      "photoUrl": "https://lh3.googleusercontent.com/a-/AOh14GjxG_xmoQX10nzSlm_XSz89C8fabOW3w7cEDJXt-g=s64",
      "userId": "13482936011621009456"
     },
     "user_tz": -330
    },
    "id": "FAICV3TSZ5iv",
    "outputId": "7203991b-8392-4fd5-828a-bc8085557cf3"
   },
   "outputs": [
    {
     "data": {
      "image/png": "[encoded data removed]",
      "text/plain": [
       "<PIL.PngImagePlugin.PngImageFile image mode=RGB size=242x482 at 0x7F2477125850>"
      ]
     },
     "execution_count": 30,
     "metadata": {
      "tags": []
     },
     "output_type": "execute_result"
    }
   ],
   "source": [
    "test_image_reconstruct(model, test_loader)\n",
    "\n",
    "\n",
    "Image.open('/content/MNIST_reconstruction.png')"
   ]
  }
 ],
 "metadata": {
  "colab": {
   "authorship_tag": "ABX9TyMMoxPj2d9uckAb4G/TQWBz",
   "name": "as3_2_1.ipynb",
   "provenance": []
  },
  "kernelspec": {
   "display_name": "Python 3",
   "language": "python",
   "name": "python3"
  },
  "language_info": {
   "codemirror_mode": {
    "name": "ipython",
    "version": 3
   },
   "file_extension": ".py",
   "mimetype": "text/x-python",
   "name": "python",
   "nbconvert_exporter": "python",
   "pygments_lexer": "ipython3",
   "version": "3.8.5"
  }
 },
 "nbformat": 4,
 "nbformat_minor": 1
}
